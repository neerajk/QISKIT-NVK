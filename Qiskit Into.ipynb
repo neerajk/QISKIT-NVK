{
 "cells": [
  {
   "cell_type": "code",
   "execution_count": 1,
   "id": "9ba67ce2",
   "metadata": {},
   "outputs": [],
   "source": [
    "import qiskit"
   ]
  },
  {
   "cell_type": "code",
   "execution_count": 2,
   "id": "64db1e59",
   "metadata": {},
   "outputs": [
    {
     "data": {
      "text/plain": [
       "{'qiskit-terra': '0.25.1', 'qiskit': '0.44.1', 'qiskit-aer': None, 'qiskit-ignis': None, 'qiskit-ibmq-provider': None, 'qiskit-nature': None, 'qiskit-finance': None, 'qiskit-optimization': None, 'qiskit-machine-learning': None}"
      ]
     },
     "execution_count": 2,
     "metadata": {},
     "output_type": "execute_result"
    }
   ],
   "source": [
    "qiskit.__qiskit_version__"
   ]
  },
  {
   "cell_type": "code",
   "execution_count": 3,
   "id": "2ab83a18",
   "metadata": {},
   "outputs": [],
   "source": [
    "from qiskit import IBMQ"
   ]
  },
  {
   "cell_type": "code",
   "execution_count": 5,
   "id": "0fbfae04",
   "metadata": {},
   "outputs": [
    {
     "name": "stderr",
     "output_type": "stream",
     "text": [
      "/var/folders/nw/whndd4zx0yq8ggmr1g5hhd5m0000gn/T/ipykernel_93987/1976842478.py:1: DeprecationWarning: The package qiskit.providers.ibmq is being deprecated. Please see https://ibm.biz/provider_migration_guide to get instructions on how to migrate to qiskit-ibm-provider (https://github.com/Qiskit/qiskit-ibm-provider) and qiskit-ibm-runtime (https://github.com/Qiskit/qiskit-ibm-runtime).\n",
      "  IBMQ.save_account('4d1b4cd69490050004ad300b0c6841ef8a18cde6244181a5aa12c54da775e70d2ed0a9046aecb1b65a6482edba976e31e10f0ce332d18b490852efcc377e60ce')\n",
      "/var/folders/nw/whndd4zx0yq8ggmr1g5hhd5m0000gn/T/ipykernel_93987/1976842478.py:1: DeprecationWarning: The qiskit.IBMQ entrypoint and the qiskit-ibmq-provider package (accessible from 'qiskit.providers.ibmq`) are deprecated and will be removed in a future release. Instead you should use the qiskit-ibm-provider package which is accessible from 'qiskit_ibm_provider'. You can install it with 'pip install qiskit_ibm_provider'. Just replace 'qiskit.IBMQ' with 'qiskit_ibm_provider.IBMProvider'\n",
      "  IBMQ.save_account('4d1b4cd69490050004ad300b0c6841ef8a18cde6244181a5aa12c54da775e70d2ed0a9046aecb1b65a6482edba976e31e10f0ce332d18b490852efcc377e60ce')\n"
     ]
    }
   ],
   "source": [
    "IBMQ.save_account('4d1b4cd69490050004ad300b0c6841ef8a18cde6244181a5aa12c54da775e70d2ed0a9046aecb1b65a6482edba976e31e10f0ce332d18b490852efcc377e60ce')"
   ]
  },
  {
   "cell_type": "code",
   "execution_count": 7,
   "id": "b86edd1a",
   "metadata": {},
   "outputs": [],
   "source": [
    "from qiskit_ibm_provider import IBMProvider"
   ]
  },
  {
   "cell_type": "code",
   "execution_count": 8,
   "id": "36ea1bf5",
   "metadata": {},
   "outputs": [],
   "source": [
    "IBMProvider.save_account('4d1b4cd69490050004ad300b0c6841ef8a18cde6244181a5aa12c54da775e70d2ed0a9046aecb1b65a6482edba976e31e10f0ce332d18b490852efcc377e60ce')"
   ]
  },
  {
   "cell_type": "code",
   "execution_count": 10,
   "id": "1d168d47",
   "metadata": {},
   "outputs": [
    {
     "data": {
      "text/plain": [
       "<AccountProvider for IBMQ(hub='ibm-q', group='open', project='main')>"
      ]
     },
     "execution_count": 10,
     "metadata": {},
     "output_type": "execute_result"
    }
   ],
   "source": [
    "IBMQ.load_account()"
   ]
  },
  {
   "cell_type": "code",
   "execution_count": null,
   "id": "458a0eb0",
   "metadata": {},
   "outputs": [],
   "source": []
  }
 ],
 "metadata": {
  "kernelspec": {
   "display_name": "Python 3 (ipykernel)",
   "language": "python",
   "name": "python3"
  },
  "language_info": {
   "codemirror_mode": {
    "name": "ipython",
    "version": 3
   },
   "file_extension": ".py",
   "mimetype": "text/x-python",
   "name": "python",
   "nbconvert_exporter": "python",
   "pygments_lexer": "ipython3",
   "version": "3.10.9"
  }
 },
 "nbformat": 4,
 "nbformat_minor": 5
}
